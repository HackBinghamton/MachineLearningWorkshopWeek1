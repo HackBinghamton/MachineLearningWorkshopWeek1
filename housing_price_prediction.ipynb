{
 "cells": [
  {
   "cell_type": "markdown",
   "metadata": {},
   "source": [
    "# House Price Prediction with Machine Learning\n",
    "\n",
    "## Overview\n",
    "### What You'll Learn\n",
    "In this section, you'll learn\n",
    "1. How to use scikit-learn to create, train, and test a housing price predictor\n",
    "2. How to use Tensorflow to create, train, and test a neural\n",
    "\n",
    "### Prerequisites\n",
    "Before starting this section, you should have an understanding of\n",
    "1. [Basic Python](https://github.com/HackBinghamton/PythonWorkshop) (functions, loops, lists) \n",
    "2. [scikit-learn](https://colab.research.google.com/github/HackBinghamton/MachineLearningWorkshopWeek1/blob/master/intro_ml_scikit.ipynb)\n",
    "3. [Tensorflow](https://colab.research.google.com/github/HackBinghamton/MachineLearningWorkshopWeek1/blob/master/intro_neural_networks_tf.ipynb)\n",
    "\n",
    "### Introduction\n",
    "This section will give you the opportunity to apply what you've learned with scikit-learn and Tensorflow to a new dataset: the Boston housing price dataset.\n",
    "\n",
    "---\n",
    "\n",
    "## Prediction with scikit-learn\n",
    "\n",
    "### 1. Loading the Data\n",
    "\n",
    "The Boston housing price dataset is one of several datasets included with `sklearn`. It contains 506 samples of houses in the Boston area, with measurements of 13 attributes of each (e.g. per capita crime, tax rate, pupil-teacher ratio, etc.), with the 'target' (y) variable being the price of the house. The goal is to train a model to find a regression from the x-data to the y-data.\n",
    "\n",
    "Accessing the data in the Boston house-price dataset is effectively the same as accessing the MNIST `digits` dataset."
   ]
  },
  {
   "cell_type": "code",
   "execution_count": null,
   "metadata": {},
   "outputs": [],
   "source": [
    "from sklearn.datasets import load_boston\n",
    "from sklearn.model_selection import train_test_split\n",
    "boston = load_boston()\n",
    "\n",
    "xtrain, xtest, ytrain, ytest = train_test_split(boston.data,\n",
    "                                                boston.target,\n",
    "                                                test_size=0.5,    # Tweak to your liking\n",
    "                                                random_state=42)  # Set random seed"
   ]
  },
  {
   "cell_type": "markdown",
   "metadata": {},
   "source": [
    "Let's see if we can come up with a model that will accurately predict the price of a house given its attributes...\n",
    "\n",
    "### 2. Choosing a Model\n",
    "`sklearn` comes with a variety of models that excel at different tasks. \n",
    "\n",
    "There is one large distinction between models to make: There are *classifiers*, and *regressions*. __Classifiers pick from a list of label options to predict what something is (e.g. apples, oranges), while regressions guess a value on a continuous spectrum (e.g. a number on the Richter scale, *the price of a house*)__\n",
    "\n",
    " - __Classifiers *label* things, e.g.:__\n",
    "    - This is picture of a cat\n",
    "    - This data seems to represent an orange\n",
    "    - This sounds like this person's voice\n",
    " - __Regressions *estimate* things, e.g.:__\n",
    "    - This was probably a 3.5 on the Richter scale\n",
    "    - This stock will grow 5% by tomorrow\n",
    "    - *This house probably cost $100k\n",
    "\n",
    "For this dataset, it is most valid to use a *regression* to predict the prices of the houses.\n",
    "\n",
    "`sklearn`'s `linear_model` family comes with numerous regressions to apply, like `LinearRegression`, `Lasso`, `Ridge`, and many more, which can be found at the [official documentation](https://scikit-learn.org/stable/supervised_learning.html).\n",
    "\n",
    "### 3. Training and Using a Model\n",
    "\n",
    "Thankfully, many of `sklearn`'s models work the same, and can be used by replacing `some_model_variety` below with the model family you'd like to load, and `ModelOfChoice` with the specific model you'd like to use.\n",
    "\n",
    "```python\n",
    "# Load up the model to use\n",
    "from sklearn.some_model_variety import ModelOfChoice\n",
    "\n",
    "# Load your data as shown above...\n",
    "\n",
    "# Create your model\n",
    "model = ModelOfChoice()\n",
    "\n",
    "# Train your model\n",
    "model.fit(xtrain, ytrain)\n",
    "\n",
    "# Check its accuracy\n",
    "print(\"ModelofChoice Accuracy:\", str(model.score(xtest, ytest) * 100) + \"%\")\n",
    "```"
   ]
  },
  {
   "cell_type": "markdown",
   "metadata": {},
   "source": [
    "Given this template code below, see what you can find! What models work the best for this dataset? What can you tweak to get better results?"
   ]
  },
  {
   "cell_type": "code",
   "execution_count": null,
   "metadata": {},
   "outputs": [],
   "source": [
    "# Import model (also try Lasso, Ridge)\n",
    "from sklearn.linear_model import Ridge\n",
    "\n",
    "# Create the model\n",
    "model = Ridge()\n",
    "\n",
    "# Train it\n",
    "model.fit(xtrain, ytrain)\n",
    "\n",
    "# Check the accuracy (if that is your intention)\n",
    "print(\"Accuracy:\", str(model.score(xtest, ytest) * 100) + \"%\")"
   ]
  },
  {
   "cell_type": "markdown",
   "metadata": {},
   "source": [
    "Congrats! You just used ML to make a model to predict housing prices!\n",
    "\n",
    "---\n",
    "\n",
    "## Prediction with Tensorflow\n",
    "\n",
    "### 1. Loading the Data\n",
    "\n",
    "Thankfully, Tensorflow comes with its own version of the Boston housing dataset, which can be accessed similarly to the MNIST set."
   ]
  },
  {
   "cell_type": "code",
   "execution_count": null,
   "metadata": {
    "scrolled": true
   },
   "outputs": [],
   "source": [
    "import tensorflow as tf\n",
    "\n",
    "boston = tf.keras.datasets.boston_housing\n",
    "\n",
    "(xtrain, ytrain), (xtest, ytest) = boston.load_data()"
   ]
  },
  {
   "cell_type": "markdown",
   "metadata": {},
   "source": [
    "### 2. Preparing the Data\n",
    "\n",
    "Due to the math behind Tensorflow, the ranges and average values of different x-variables (e.g. crime rate vs. average rooms per house) have an impact on what the model considers important. For example, crime rates are formatted as percentages between 0 and 1, while the property tax is a number that usually lies in the 200s. Because of this difference, a neural network may consider property tax to be more hundreds of times more important than the crime rate.\n",
    "\n",
    "To take care of this, we must *normalize* our data -- effectively, this means to tweak them so that they sit on the same scale. One common way to do this is with *z-scores* (ignore the name, it just means to normalize).\n",
    "\n",
    "For each variable in our data, we'll perform the following operation:\n",
    "\n",
    "```x = (x - avg) / stddev```\n",
    "\n",
    "Thankfully, Tensorflow's data is lovely to work with and takes away much of the busywork for us:"
   ]
  },
  {
   "cell_type": "code",
   "execution_count": null,
   "metadata": {},
   "outputs": [],
   "source": [
    "train_mean = xtrain.mean(axis=0)\n",
    "train_stddev = xtrain.std(axis=0)\n",
    "xtrain = (xtrain - train_mean) / train_stddev\n",
    "xtest = (xtest - train_mean) / train_stddev"
   ]
  },
  {
   "cell_type": "markdown",
   "metadata": {},
   "source": [
    "### 3. Building the Model\n",
    "\n",
    "The neural network we construct here is remarkably similar to the one in the Intro Tensorflow section, with a couple of marked differences."
   ]
  },
  {
   "cell_type": "code",
   "execution_count": null,
   "metadata": {},
   "outputs": [],
   "source": [
    "model = tf.keras.models.Sequential([\n",
    "    # (No need to vectorize our input with Flatten -- this is already taken care of.)\n",
    "    # (However, we still need to specify our input shape in the first layer...)\n",
    "    \n",
    "    # A Dense layer with relu, with the input shape tweaked to fit the 13 inputs of this dataset.\n",
    "    tf.keras.layers.Dense(64, activation='relu', input_shape=(13,)),\n",
    "    \n",
    "    # A Dropout layer to prevent overfitting.\n",
    "    tf.keras.layers.Dropout(0.02),\n",
    "    \n",
    "    # Since we only have one dimension in our output (housing price) we only need 1 in our final Dense layer.\n",
    "    tf.keras.layers.Dense(1)\n",
    "])"
   ]
  },
  {
   "cell_type": "markdown",
   "metadata": {},
   "source": [
    "### 4. Compiling and Training the Model\n",
    "\n",
    "We can compile our model just like before, but with the subtraction of the accuracy metric -- this is because the accuracy used by Tensorflow doesn't make sense for continuous values.\n",
    "\n",
    "Also, we modify the loss function from `sparse_categorical_crossentropy` to `mean_squared_error` since  `sparse_categorical_crossentropy` is for categorization problems, and this is a regression.\n",
    "\n",
    "Finally, we train just like usual. Just be careful with the epochs to avoid overfitting!"
   ]
  },
  {
   "cell_type": "code",
   "execution_count": null,
   "metadata": {},
   "outputs": [],
   "source": [
    "model.compile(optimizer='adam', loss=\"mean_squared_error\")\n",
    "\n",
    "model.fit(xtrain, ytrain, epochs=60)\n",
    "print(\"Training complete!\")"
   ]
  },
  {
   "cell_type": "markdown",
   "metadata": {},
   "source": [
    "### 5. Testing the Model\n",
    "\n",
    "Now that we've trained our model, let's test it out on some data! Run the code below to see the predicted and actual \n",
    "values of the test data with accuracy!"
   ]
  },
  {
   "cell_type": "code",
   "execution_count": null,
   "metadata": {},
   "outputs": [],
   "source": [
    "preds = model.predict(xtest).flatten()\n",
    "results = ytest\n",
    "\n",
    "# Iterate through each test and pretty-print\n",
    "print(\"Predict  Actual   Accuracy\")\n",
    "sum_acc = 0\n",
    "for i in range(len(xtest)):\n",
    "    acc = 100 - (100 * abs(preds[i] - ytest[i]) / ytest[i])\n",
    "    sum_acc += acc\n",
    "    print(\"{:5.2f}    {:5.2f}    {:5.2f}\".format(preds[i], ytest[i], acc))\n",
    "\n",
    "print(\"Average Accuracy: {}%\".format(sum_acc / len(xtest)))"
   ]
  }
 ],
 "metadata": {
  "kernelspec": {
   "display_name": "Python 3",
   "language": "python",
   "name": "python3"
  },
  "language_info": {
   "codemirror_mode": {
    "name": "ipython",
    "version": 3
   },
   "file_extension": ".py",
   "mimetype": "text/x-python",
   "name": "python",
   "nbconvert_exporter": "python",
   "pygments_lexer": "ipython3",
   "version": "3.5.3"
  }
 },
 "nbformat": 4,
 "nbformat_minor": 2
}
