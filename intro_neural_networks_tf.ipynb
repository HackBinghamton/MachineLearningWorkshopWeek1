{
 "cells": [
  {
   "cell_type": "markdown",
   "metadata": {},
   "source": [
    "# Why Neural Networks?\n",
    "\n",
    "So why use Neural Networks at all when we have such great models like Linear and Logistic Regression at our disposal?\n",
    "\n",
    "Well sometimes, these models just  aren't enough to separate out our data. Take this dataset for example:\n",
    "\n",
    "![Difficult data](images/gaussian-kernel.png)\n",
    "\n",
    "We can't just draw a straight line, or an S-shaped line though this thing to cleanly\n",
    "divide the red and blue points. We need a model that can take on more non-linear shapes.\n",
    "That's where Neural Networks can be very useful!\n",
    "\n",
    "> **NOTE**: Neural Networks can still be overkill for problems like this, but this is for the sake\n",
    "of an introductory workshop. There are plenty of other models in the Scikit Learn library that\n",
    "can handle data like this. Try checking out [Support Vector Machines](https://scikit-learn.org/stable/modules/svm.html)\n",
    "for example.\n",
    "\n",
    "---"
   ]
  },
  {
   "cell_type": "markdown",
   "metadata": {},
   "source": [
    "We were able to achieve a respectable accuracy on scikit-learn's digits dataset using logistic regression. However,\n",
    "the dataset was quite small and simple - each image was only 8 pixels by 8 pixels. Many monitors today support a\n",
    "resolution of at least 1920 pixels by 1080 pixels, so 8x8 is almost primitive compared to real-world data we'd\n",
    "be working with.\n",
    "\n",
    "Take, for instance, the MNIST dataset, which contains 28 x 28 pixel handwritten digits for classification. \n",
    "If we train a logistic regression model on this data, we'll see a noticeable decrease in performance. "
   ]
  },
  {
   "cell_type": "code",
   "execution_count": null,
   "metadata": {},
   "outputs": [],
   "source": [
    "import tensorflow as tf\n",
    "\n",
    "# Load in the MNIST dataset from TensorFlow\n",
    "mnist = tf.keras.datasets.mnist\n",
    "\n",
    "# Split the MNIST set into training and testing sets\n",
    "(X_train, Y_train), (X_test, Y_test) = mnist.load_data() # This is already split, unlike in digits\n",
    "X_train, X_test = X_train / 255, X_test / 255            # Pixel values are 0-255, so let's shrink\n",
    "                                                         # them to between 0 and 1\n",
    "\n",
    "# Reshape the training and testing sets for compatibility with sklearn's LogisticRegression()\n",
    "X_train = X_train.reshape(X_train.shape[0], -1)\n",
    "X_test = X_test.reshape(X_test.shape[0], -1)\n",
    "\n",
    "\n",
    "from sklearn.linear_model import LogisticRegression\n",
    "\n",
    "# Initialize a LogisticRegression object\n",
    "logistic_model = LogisticRegression()\n",
    "\n",
    "# Fit the logistic regression algorithm with the training data\n",
    "logistic_model.fit(X_train[:10000, :], Y_train[:10000])\n",
    "\n",
    "print(\"Logistic Regression Regression accuracy:\", str(logistic_model.score(X_test, Y_test) * 100) + \"%\")"
   ]
  },
  {
   "cell_type": "markdown",
   "metadata": {},
   "source": [
    "While logistic regression achieved ~95% accuracy on the digits dataset, it only achieves ~90% on the MNIST dataset.\n",
    "What if we need better than this? This is where neural networks come in handy. "
   ]
  },
  {
   "cell_type": "markdown",
   "metadata": {},
   "source": [
    "# Building Our First Neural Network\n",
    "## Creating a Neural Network Model"
   ]
  },
  {
   "cell_type": "code",
   "execution_count": null,
   "metadata": {},
   "outputs": [],
   "source": [
    "import tensorflow as tf\n",
    "\n",
    "# Load in the MNIST dataset from TensorFlow\n",
    "mnist = tf.keras.datasets.mnist\n",
    "\n",
    "# Split the MNIST set into training and testing sets\n",
    "(X_train, Y_train), (X_test, Y_test) = mnist.load_data()\n",
    "X_train, X_test = X_train / 255, X_test / 255\n",
    "\n",
    "# Create a neural network model\n",
    "model = tf.keras.models.Sequential([\n",
    "  # Vectorize the input for faster processing\n",
    "  tf.keras.layers.Flatten(input_shape=(28, 28)),\n",
    "  \n",
    "  '''\n",
    "  This line adds a dense layer to the neural network. Dense layers are fully connected layers, \n",
    "  which are the standard \"layers\" in a neural network.\n",
    " \n",
    "  128 - units of output dimensionality. We generally try to use powers of 2 (64, 128, 256, etc) \n",
    "  here because they're most efficient on GPUs. Finding a good value here is important - \n",
    "  2048 would be overkill on the MNIST dataset, but 16 might not be enough.\n",
    " \n",
    "  activation='relu' - relu stands for Rectified Linear Unit. Essentially, this activation adds \n",
    "  non-linearity to the neural network. If you try to run a linear regression model on this dataset, \n",
    "  you'll see it does very poorly. This suggests that it would be a good idea to add some \n",
    "  non-linearity to this problem.\n",
    "  '''\n",
    "  tf.keras.layers.Dense(128, activation='relu'),\n",
    "  \n",
    "  '''\n",
    "  Dropout is a good layer for avoiding overfitting - training a machine learning algorithm\n",
    "  on a training set too much. This causes the machine learning algorithm to notice irrelevant aspects \n",
    "  (\"noise\") of the training set. It essentially adds a layer of randomness to the neural network by \n",
    "  ignoring a percentage of random inputs (in this case, ignore a random 20%) on each iteration. \n",
    "  \"If you're good at something while drunk, you'll be really good at it sober\" - Ryan McCormick, 2019\n",
    "  '''\n",
    "  tf.keras.layers.Dropout(0.2),\n",
    "  \n",
    "  '''\n",
    "  Add another dense layer, but this time with an output dimensionality of 10 units because there are\n",
    "  only 10 options (there are only 10 digits).\n",
    "  \n",
    "  activation='softmax' turns the arbitrary outputs of the neural network into \"probabilities\".\n",
    "  \n",
    "  The final decision made by the neural network should be the output with the highest probability.\n",
    "  \n",
    "  Example:\n",
    "      Input: Image of handwritten \"2\"\n",
    "      Output: [0.01, 0.02, 0.9, 0.01, 0.005, 0.005, 0.02, 0.01, 0.01, 0.01]\n",
    "          > Softmax gives us 10 probabilities, one for each digit 0 - 9.\n",
    "      Interpretation: This image is a handwritten \"2\" with probability of 0.9, or 90%.\n",
    "  '''\n",
    "  tf.keras.layers.Dense(10, activation='softmax')\n",
    "])"
   ]
  },
  {
   "cell_type": "markdown",
   "metadata": {},
   "source": [
    "## Training Our Model"
   ]
  },
  {
   "cell_type": "code",
   "execution_count": null,
   "metadata": {},
   "outputs": [],
   "source": [
    "# Compile the model\n",
    "model.compile(optimizer='adam',\n",
    "              loss='sparse_categorical_crossentropy',\n",
    "              metrics=['accuracy'])\n",
    "\n",
    "'''\n",
    "Fit the model to the training set. Epochs is the number of times we fit the network to the training\n",
    "set. Be careful of adding too many epochs, however! Overfitting can be just as bad as underfitting.\n",
    "'''\n",
    "model.fit(X_train, Y_train, epochs=5)\n",
    "\n",
    "# Evaluate the accuracy of the neural network and print it out\n",
    "test_loss, test_acc = model.evaluate(X_test, Y_test)\n",
    "\n",
    "print(test_acc)"
   ]
  },
  {
   "cell_type": "markdown",
   "metadata": {},
   "source": [
    "When we print out the testing accuracy, we can see that our simple neural network greatly outperforms\n",
    "our logistic regression model (~98% vs ~90%)."
   ]
  }
 ],
 "metadata": {
  "kernelspec": {
   "display_name": "Python 3",
   "language": "python",
   "name": "python3"
  },
  "language_info": {
   "codemirror_mode": {
    "name": "ipython",
    "version": 3
   },
   "file_extension": ".py",
   "mimetype": "text/x-python",
   "name": "python",
   "nbconvert_exporter": "python",
   "pygments_lexer": "ipython3",
   "version": "3.6.8"
  }
 },
 "nbformat": 4,
 "nbformat_minor": 2
}
